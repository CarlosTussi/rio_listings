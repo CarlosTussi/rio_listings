{
 "cells": [
  {
   "cell_type": "code",
   "execution_count": 107,
   "id": "ee19644a-1ce5-47e4-89e7-46ff622ce1bd",
   "metadata": {
    "tags": []
   },
   "outputs": [],
   "source": [
    "import pandas as pd\n",
    "import numpy as np\n",
    "\n",
    "#Pipeline\n",
    "from sklearn.pipeline import Pipeline\n",
    "from sklearn.pipeline import make_pipeline\n",
    "\n",
    "# Custom Transformers\n",
    "from sklearn.base import BaseEstimator, TransformerMixin"
   ]
  },
  {
   "cell_type": "code",
   "execution_count": 109,
   "id": "1ddeabda-a6d6-4bff-aabe-d9f3bd4f1a5d",
   "metadata": {
    "tags": []
   },
   "outputs": [],
   "source": [
    "df = pd.read_csv(\"Data/listings.csv\", sep = \",\")"
   ]
  },
  {
   "cell_type": "code",
   "execution_count": 110,
   "id": "4198754c-672c-462e-aa98-5c00dc0ff06b",
   "metadata": {
    "tags": []
   },
   "outputs": [],
   "source": [
    "#Custom transformers (for template purposes of how pipeline works)\n",
    "\n",
    "#Drop columns\n",
    "class ColumnDropperTransformer(BaseEstimator, TransformerMixin):\n",
    "    def __init__(self, columns):\n",
    "        self.columns = columns\n",
    "    \n",
    "    def transform(self, X, y=None):\n",
    "        X = X.drop(self.columns, axis = 1)\n",
    "        return X\n",
    "    \n",
    "    def fit(self, X):\n",
    "        return self\n",
    "    \n",
    "#Filter\n",
    "class DropNas(BaseEstimator, TransformerMixin):\n",
    "    def __init__(self):\n",
    "        pass\n",
    "    \n",
    "    def transform(self, X, y=None):\n",
    "        X = X.dropna(subset = \"bathrooms\")\n",
    "        X = X.dropna(subset = [\"bedrooms\", \"beds\"])\n",
    "        X = X.dropna(subset = \"price\")\n",
    "        \n",
    "        return X\n",
    "    \n",
    "    def fit(self, X):\n",
    "        return self"
   ]
  },
  {
   "cell_type": "code",
   "execution_count": 111,
   "id": "48b098d6-0572-4d2c-b6f9-3d2286a21843",
   "metadata": {
    "tags": []
   },
   "outputs": [],
   "source": [
    "drop_columns = [\"host_id\", \"host_url\", \"host_name\", \"host_location\", \"host_about\", \"host_thumbnail_url\", \n",
    "        \"host_picture_url\", \"host_neighbourhood\", \"host_since\", \"host_listings_count\", \"host_total_listings_count\",\n",
    "        \"id\", \"scrape_id\", \"listing_url\", \"picture_url\", \"minimum_minimum_nights\", \"maximum_minimum_nights\", \"minimum_maximum_nights\", \n",
    "        \"maximum_maximum_nights\", \"minimum_nights_avg_ntm\", \"maximum_nights_avg_ntm\", \"last_scraped\", \"source\", \"first_review\", \"last_review\", \"license\", \"neighbourhood\",\n",
    "        \"neighborhood_overview\", \"neighbourhood_group_cleansed\", \"name\", \"description\",\n",
    "        \"calendar_updated\", \"calculated_host_listings_count\", \"calculated_host_listings_count_entire_homes\",\n",
    "        \"calculated_host_listings_count_private_rooms\", \"calculated_host_listings_count_shared_rooms\", \"calendar_last_scraped\", \"longitude\", \"latitude\",\"availability_365\", \"minimum_nights\", \n",
    "        \"maximum_nights\", \"availability_30\",\"availability_60\", \"availability_90\", \"number_of_reviews_ltm\", \"number_of_reviews_l30d\", \"number_of_reviews\",\n",
    "               \"review_scores_value\", \"review_scores_rating\", \"review_scores_accuracy\",\n",
    "               \"review_scores_checkin\", \"review_scores_cleanliness\", \"review_scores_communication\",\n",
    "               \"review_scores_location\" ,\"reviews_per_month\", \"has_availability\", \"instant_bookable\", \"host_response_rate\", \"host_acceptance_rate\", \"host_is_superhost\", \"host_has_profile_pic\", \"host_identity_verified\",\n",
    "                \"host_response_time\", \"property_type\", \"host_verifications\"\n",
    "                \n",
    "                \n",
    "       ]"
   ]
  },
  {
   "cell_type": "markdown",
   "id": "09c28053-d21e-4d16-a151-1f52f2eb7995",
   "metadata": {
    "tags": []
   },
   "source": [
    "drop_transformer = ColumnDropperTransformer(drop_columns)"
   ]
  },
  {
   "cell_type": "markdown",
   "id": "1213379b-ad18-4bc6-b36a-6bb5911896ad",
   "metadata": {
    "tags": []
   },
   "source": [
    "df_transformed = drop_transformer.fit_transform(df)\n",
    "print(df_transformed.isna().sum())\n",
    "df_transformed.columns"
   ]
  },
  {
   "cell_type": "code",
   "execution_count": 129,
   "id": "a6942e98-4f07-4873-a559-12b6e57cd514",
   "metadata": {
    "tags": []
   },
   "outputs": [],
   "source": [
    "#Option 1: Naming the transformers\n",
    "my_pipeline_named = Pipeline([\n",
    "    (\"dropnas\", DropNas()),\n",
    "    (\"dropcolumns\", ColumnDropperTransformer(columns = drop_columns)),\n",
    "])\n",
    "\n",
    "#Option 2: NOT naming the transformers\n",
    "my_pipeline_unamed = make_pipeline(DropNas(), \n",
    "                            ColumnDropperTransformer(columns = drop_columns))"
   ]
  },
  {
   "cell_type": "code",
   "execution_count": 135,
   "id": "b5163cbb-bf72-465c-9e44-ef5fa6383273",
   "metadata": {},
   "outputs": [
    {
     "data": {
      "text/plain": [
       "Index(['neighbourhood_cleansed', 'room_type', 'accommodates', 'bathrooms',\n",
       "       'bathrooms_text', 'bedrooms', 'beds', 'amenities', 'price'],\n",
       "      dtype='object')"
      ]
     },
     "execution_count": 135,
     "metadata": {},
     "output_type": "execute_result"
    }
   ],
   "source": [
    "df_transformed = my_pipeline_named.fit_transform(df)\n",
    "df_transformed.columns"
   ]
  },
  {
   "cell_type": "code",
   "execution_count": null,
   "id": "a73d7ffd-8aa8-4e35-ba8d-cefbc00b70f9",
   "metadata": {},
   "outputs": [],
   "source": [
    "Implement the idea of the code bellow where we separate ccategorical and numerical data and apply5 different transofrmes to each (!)\n",
    "using ColumnTransformers"
   ]
  },
  {
   "cell_type": "markdown",
   "id": "49924cf2-fda2-434a-8eee-908dadcf66f0",
   "metadata": {},
   "source": [
    "from sklearn.compose import ColumnTransformer\n",
    "\n",
    "num_attribs = [\"longitude\", \"latitude\", \"housing_median_age\", \"total_rooms\",\n",
    "               \"total_bedrooms\", \"population\", \"households\", \"median_income\"]\n",
    "cat_attribs = [\"ocean_proximity\"]\n",
    "\n",
    "cat_pipeline = make_pipeline(\n",
    "    SimpleImputer(strategy=\"most_frequent\"),\n",
    "    OneHotEncoder(handle_unknown=\"ignore\"))\n",
    "\n",
    "preprocessing = ColumnTransformer([\n",
    "    (\"num\", num_pipeline, num_attribs),\n",
    "    (\"cat\", cat_pipeline, cat_attribs),\n",
    "])"
   ]
  }
 ],
 "metadata": {
  "kernelspec": {
   "display_name": "Python 3 (ipykernel)",
   "language": "python",
   "name": "python3"
  },
  "language_info": {
   "codemirror_mode": {
    "name": "ipython",
    "version": 3
   },
   "file_extension": ".py",
   "mimetype": "text/x-python",
   "name": "python",
   "nbconvert_exporter": "python",
   "pygments_lexer": "ipython3",
   "version": "3.11.7"
  }
 },
 "nbformat": 4,
 "nbformat_minor": 5
}
