{
 "cells": [
  {
   "cell_type": "code",
   "execution_count": 521,
   "id": "abde0594-ab96-4232-967e-5cc29c5b0dd8",
   "metadata": {
    "tags": []
   },
   "outputs": [],
   "source": [
    "import pandas as pd\n",
    "import numpy as np\n",
    "\n",
    "# Test Splitting\n",
    "from sklearn.model_selection import train_test_split\n",
    "\n",
    "# Models\n",
    "from sklearn.ensemble import RandomForestRegressor\n",
    "from sklearn.linear_model import LinearRegression\n",
    "from sklearn.svm import SVR\n",
    "from sklearn.linear_model import SGDRegressor\n",
    "\n",
    "# Metrics\n",
    "from sklearn.metrics import root_mean_squared_error\n",
    "from sklearn.metrics import mean_squared_error\n",
    "from sklearn.metrics import mean_absolute_error\n",
    "from sklearn.metrics import r2_score"
   ]
  },
  {
   "cell_type": "code",
   "execution_count": 523,
   "id": "b1faeaea-e388-495b-9774-a4e568f5130e",
   "metadata": {
    "tags": []
   },
   "outputs": [],
   "source": [
    "# Load all the different data sets\n",
    "df_bin = pd.read_csv(\"Data/df_bin.csv\")\n",
    "df_onehot = pd.read_csv(\"Data/df_onehot.csv\")\n",
    "df_label = pd.read_csv(\"Data/df_label.csv\")\n",
    "\n",
    "# Removing useless column\n",
    "df_bin.drop(\"Unnamed: 0\",inplace = True, axis = 1)\n",
    "df_onehot.drop(\"Unnamed: 0\",inplace = True, axis = 1)\n",
    "df_label.drop(\"Unnamed: 0\",inplace = True, axis = 1)"
   ]
  },
  {
   "cell_type": "code",
   "execution_count": 524,
   "id": "ca373f61-8cc5-4ee1-95a6-2a2292a4073d",
   "metadata": {
    "tags": []
   },
   "outputs": [],
   "source": [
    "# Dictionary with Dataset name and the corresponding dataset with different encoding for the neighbourhood\n",
    "datasets = {\"df_bin\": df_bin,\n",
    "            \"df_onehot\": df_onehot,\n",
    "            \"df_label\": df_label}"
   ]
  },
  {
   "cell_type": "code",
   "execution_count": 527,
   "id": "fd9cc1a3-c15d-4a69-a30d-f7a2cdf6e33f",
   "metadata": {
    "tags": []
   },
   "outputs": [],
   "source": [
    "# Initialize models being utilised\n",
    "lr = LinearRegression()\n",
    "rfr = RandomForestRegressor(n_estimators=500, max_leaf_nodes=100, n_jobs=-1, random_state = 0)\n",
    "svr = SVR(kernel=\"poly\", degree = 4)\n",
    "sgdr = SGDRegressor(max_iter=1000, tol=1e-3)\n",
    "\n",
    "models = { \"Linear Regression\": lr,\n",
    "           \"Random Forest Regressor\": rfr,\n",
    "           \"SVR\": svr,\n",
    "           \"SGDR\":sgdr,\n",
    "         }"
   ]
  },
  {
   "cell_type": "code",
   "execution_count": 529,
   "id": "0dc342e9-5261-48da-9843-81defe2f0e1a",
   "metadata": {
    "tags": []
   },
   "outputs": [],
   "source": [
    "# Target feature\n",
    "target_feature = \"price\""
   ]
  },
  {
   "cell_type": "code",
   "execution_count": 531,
   "id": "6eae688f-bdf4-4fa8-b92d-2f673337a1d6",
   "metadata": {
    "tags": []
   },
   "outputs": [],
   "source": [
    "# Will contain all the results\n",
    "all_results = {}"
   ]
  },
  {
   "cell_type": "code",
   "execution_count": 533,
   "id": "519246d7-ebdb-4942-9522-e6962ce0e857",
   "metadata": {
    "tags": []
   },
   "outputs": [],
   "source": [
    "# Support function that calculates the metrics (R2, RSME and MAE) for a model\n",
    "# Return a dictionary contaiting the results of these metrics\n",
    "def save_results(model_name, y_pred, y_test):\n",
    "    \n",
    "    # Calclulate the score for the following metrics\n",
    "    mae = mean_absolute_error(y_test, y_pred) #The lower the better\n",
    "    rmse = root_mean_squared_error(y_test, y_pred) #The lower the better\n",
    "    r2 = r2_score(y_test, y_pred) #Closer to 1 better\n",
    "    \n",
    "    # For instant analysis\n",
    "    #print(f\"{model_name}:\")\n",
    "    #print(f\"R2: {r2}\\nMAE: {mae}\\nRMSE: {rmse}\\n\")\n",
    "    \n",
    "    # Return the results for current model as a dictionary\n",
    "    return {model_name: {\"r2\": r2,\n",
    "                          \"rmse\": rmse,\n",
    "                           \"mae\": mae}}\n",
    "    \n",
    "    "
   ]
  },
  {
   "cell_type": "code",
   "execution_count": 535,
   "id": "806e7d09-a143-4b96-a03f-dbe22e721bc7",
   "metadata": {
    "tags": []
   },
   "outputs": [],
   "source": [
    "# For all the datasets we are analysing, \n",
    "# check different models and save the results in a dictionary\n",
    "\n",
    "for df_name, df in datasets.items():\n",
    "    \n",
    "    ##############\n",
    "    # Data Split # \n",
    "    ##############\n",
    "    X = df.drop(target_feature, axis = 1)\n",
    "    y = df[target_feature]\n",
    "    \n",
    "    # Train and test sets\n",
    "    X_train, X_test, y_train, y_test = train_test_split(X, y, test_size = 0.25, random_state = 70)\n",
    "    \n",
    "    \n",
    "     #########\n",
    "    # Models # \n",
    "    ##########\n",
    "    # Temporary holder of all the models for curent dafataset\n",
    "    models_results = {}\n",
    "    for model_name, model in models.items():\n",
    "        # Train\n",
    "        model.fit(X_train, y_train)\n",
    "        # Predict\n",
    "        y_pred = model.predict(X_test)\n",
    "        # Iteration model result\n",
    "        models_results.update(save_results(model_name, y_pred, y_test))\n",
    "        \n",
    "    \n",
    "    ###########\n",
    "    # Results # \n",
    "    ###########\n",
    "    all_results.update({\n",
    "                     df_name: models_results\n",
    "                   })\n",
    "\n"
   ]
  },
  {
   "cell_type": "code",
   "execution_count": 536,
   "id": "77e85c1e-4c64-4727-b33c-c1391d9cff66",
   "metadata": {
    "tags": []
   },
   "outputs": [
    {
     "data": {
      "text/html": [
       "<div>\n",
       "<style scoped>\n",
       "    .dataframe tbody tr th:only-of-type {\n",
       "        vertical-align: middle;\n",
       "    }\n",
       "\n",
       "    .dataframe tbody tr th {\n",
       "        vertical-align: top;\n",
       "    }\n",
       "\n",
       "    .dataframe thead th {\n",
       "        text-align: right;\n",
       "    }\n",
       "</style>\n",
       "<table border=\"1\" class=\"dataframe\">\n",
       "  <thead>\n",
       "    <tr style=\"text-align: right;\">\n",
       "      <th></th>\n",
       "      <th></th>\n",
       "      <th>r2</th>\n",
       "      <th>rmse</th>\n",
       "      <th>mae</th>\n",
       "    </tr>\n",
       "    <tr>\n",
       "      <th>df_encoding</th>\n",
       "      <th>models</th>\n",
       "      <th></th>\n",
       "      <th></th>\n",
       "      <th></th>\n",
       "    </tr>\n",
       "  </thead>\n",
       "  <tbody>\n",
       "    <tr>\n",
       "      <th>df_onehot</th>\n",
       "      <th>Random Forest Regressor</th>\n",
       "      <td>0.363087</td>\n",
       "      <td>419.763158</td>\n",
       "      <td>249.307005</td>\n",
       "    </tr>\n",
       "    <tr>\n",
       "      <th>df_bin</th>\n",
       "      <th>Random Forest Regressor</th>\n",
       "      <td>0.362792</td>\n",
       "      <td>419.860496</td>\n",
       "      <td>249.444562</td>\n",
       "    </tr>\n",
       "    <tr>\n",
       "      <th>df_label</th>\n",
       "      <th>Random Forest Regressor</th>\n",
       "      <td>0.360939</td>\n",
       "      <td>420.470287</td>\n",
       "      <td>250.451381</td>\n",
       "    </tr>\n",
       "    <tr>\n",
       "      <th rowspan=\"2\" valign=\"top\">df_onehot</th>\n",
       "      <th>Linear Regression</th>\n",
       "      <td>0.340155</td>\n",
       "      <td>427.253207</td>\n",
       "      <td>255.627615</td>\n",
       "    </tr>\n",
       "    <tr>\n",
       "      <th>SGDR</th>\n",
       "      <td>0.339734</td>\n",
       "      <td>427.389365</td>\n",
       "      <td>257.744662</td>\n",
       "    </tr>\n",
       "    <tr>\n",
       "      <th rowspan=\"2\" valign=\"top\">df_bin</th>\n",
       "      <th>Linear Regression</th>\n",
       "      <td>0.332050</td>\n",
       "      <td>429.868982</td>\n",
       "      <td>258.902160</td>\n",
       "    </tr>\n",
       "    <tr>\n",
       "      <th>SGDR</th>\n",
       "      <td>0.331157</td>\n",
       "      <td>430.156503</td>\n",
       "      <td>263.500177</td>\n",
       "    </tr>\n",
       "    <tr>\n",
       "      <th rowspan=\"3\" valign=\"top\">df_label</th>\n",
       "      <th>SGDR</th>\n",
       "      <td>0.320666</td>\n",
       "      <td>433.516875</td>\n",
       "      <td>264.639500</td>\n",
       "    </tr>\n",
       "    <tr>\n",
       "      <th>Linear Regression</th>\n",
       "      <td>0.320410</td>\n",
       "      <td>433.598488</td>\n",
       "      <td>261.830702</td>\n",
       "    </tr>\n",
       "    <tr>\n",
       "      <th>SVR</th>\n",
       "      <td>0.195156</td>\n",
       "      <td>471.867624</td>\n",
       "      <td>245.489588</td>\n",
       "    </tr>\n",
       "    <tr>\n",
       "      <th>df_bin</th>\n",
       "      <th>SVR</th>\n",
       "      <td>0.187949</td>\n",
       "      <td>473.975685</td>\n",
       "      <td>241.243473</td>\n",
       "    </tr>\n",
       "    <tr>\n",
       "      <th>df_onehot</th>\n",
       "      <th>SVR</th>\n",
       "      <td>0.132314</td>\n",
       "      <td>489.943037</td>\n",
       "      <td>249.340266</td>\n",
       "    </tr>\n",
       "  </tbody>\n",
       "</table>\n",
       "</div>"
      ],
      "text/plain": [
       "                                           r2        rmse         mae\n",
       "df_encoding models                                                   \n",
       "df_onehot   Random Forest Regressor  0.363087  419.763158  249.307005\n",
       "df_bin      Random Forest Regressor  0.362792  419.860496  249.444562\n",
       "df_label    Random Forest Regressor  0.360939  420.470287  250.451381\n",
       "df_onehot   Linear Regression        0.340155  427.253207  255.627615\n",
       "            SGDR                     0.339734  427.389365  257.744662\n",
       "df_bin      Linear Regression        0.332050  429.868982  258.902160\n",
       "            SGDR                     0.331157  430.156503  263.500177\n",
       "df_label    SGDR                     0.320666  433.516875  264.639500\n",
       "            Linear Regression        0.320410  433.598488  261.830702\n",
       "            SVR                      0.195156  471.867624  245.489588\n",
       "df_bin      SVR                      0.187949  473.975685  241.243473\n",
       "df_onehot   SVR                      0.132314  489.943037  249.340266"
      ]
     },
     "execution_count": 536,
     "metadata": {},
     "output_type": "execute_result"
    }
   ],
   "source": [
    "##############\n",
    "# Comparison # \n",
    "##############\n",
    "\n",
    "index = [\"R2\", \"RSME\", \"MAE\"]\n",
    "\n",
    "df_results = pd.DataFrame()\n",
    "\n",
    "for df_name, results in all_results.items():\n",
    "    temp_df = pd.DataFrame(results).T\n",
    "    temp_df[\"df_encoding\"] = df_name\n",
    "    df_results = pd.concat([df_results, temp_df])\n",
    "    \n",
    "df_results.index.name = \"models\"\n",
    "df_results.set_index(\"df_encoding\", append = True).reorder_levels([\"df_encoding\", \"models\"]).sort_values(by=\"r2\", ascending = False)"
   ]
  },
  {
   "cell_type": "code",
   "execution_count": null,
   "id": "587e36ca-135a-44e7-93c6-81f27c45227f",
   "metadata": {},
   "outputs": [],
   "source": []
  }
 ],
 "metadata": {
  "kernelspec": {
   "display_name": "Python 3 (ipykernel)",
   "language": "python",
   "name": "python3"
  },
  "language_info": {
   "codemirror_mode": {
    "name": "ipython",
    "version": 3
   },
   "file_extension": ".py",
   "mimetype": "text/x-python",
   "name": "python",
   "nbconvert_exporter": "python",
   "pygments_lexer": "ipython3",
   "version": "3.11.7"
  }
 },
 "nbformat": 4,
 "nbformat_minor": 5
}
