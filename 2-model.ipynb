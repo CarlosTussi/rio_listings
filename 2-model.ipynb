{
 "cells": [
  {
   "cell_type": "code",
   "execution_count": 204,
   "id": "abde0594-ab96-4232-967e-5cc29c5b0dd8",
   "metadata": {
    "tags": []
   },
   "outputs": [],
   "source": [
    "import pandas as pd\n",
    "import numpy as np\n",
    "\n",
    "# Test Splitting\n",
    "from sklearn.model_selection import train_test_split\n",
    "\n",
    "# Models\n",
    "from sklearn.ensemble import RandomForestRegressor\n",
    "from sklearn.linear_model import LinearRegression\n",
    "from sklearn.svm import SVR\n",
    "from sklearn.linear_model import SGDRegressor\n",
    "from sklearn.neural_network import MLPRegressor\n",
    "from sklearn.ensemble import HistGradientBoostingRegressor\n",
    "\n",
    "# Metrics\n",
    "from sklearn.metrics import root_mean_squared_error\n",
    "from sklearn.metrics import mean_squared_error\n",
    "from sklearn.metrics import mean_absolute_error\n",
    "from sklearn.metrics import r2_score"
   ]
  },
  {
   "cell_type": "code",
   "execution_count": 205,
   "id": "d2af7be0-ef62-4c81-9229-c2392f7bd793",
   "metadata": {
    "tags": []
   },
   "outputs": [],
   "source": [
    "pd.options.display.float_format = '{:.4f}'.format"
   ]
  },
  {
   "cell_type": "code",
   "execution_count": 206,
   "id": "b1faeaea-e388-495b-9774-a4e568f5130e",
   "metadata": {
    "tags": []
   },
   "outputs": [],
   "source": [
    "# Load all the different data sets\n",
    "df_bin = pd.read_csv(\"Data/df_bin.csv\")\n",
    "df_onehot = pd.read_csv(\"Data/df_onehot.csv\")\n",
    "df_label = pd.read_csv(\"Data/df_label.csv\")\n",
    "\n",
    "# Removing useless column\n",
    "df_bin.drop(\"Unnamed: 0\",inplace = True, axis = 1)\n",
    "df_onehot.drop(\"Unnamed: 0\",inplace = True, axis = 1)\n",
    "df_label.drop(\"Unnamed: 0\",inplace = True, axis = 1)"
   ]
  },
  {
   "cell_type": "code",
   "execution_count": 207,
   "id": "ca373f61-8cc5-4ee1-95a6-2a2292a4073d",
   "metadata": {
    "tags": []
   },
   "outputs": [],
   "source": [
    "# Dictionary with Dataset name and the corresponding dataset with different encoding for the neighbourhood\n",
    "datasets = {\"df_bin\": df_bin,\n",
    "            \"df_onehot\": df_onehot,\n",
    "            \"df_label\": df_label}"
   ]
  },
  {
   "cell_type": "code",
   "execution_count": 208,
   "id": "ad003de2-120f-4860-9bfa-3420fecd3e1c",
   "metadata": {
    "tags": []
   },
   "outputs": [],
   "source": [
    "#### Initialize models being utilised\n",
    "lr = LinearRegression()\n",
    "rfr = RandomForestRegressor(n_estimators=500, max_leaf_nodes=100, n_jobs=-1, random_state = 49)\n",
    "svr = SVR(kernel=\"poly\", degree = 4)\n",
    "sgdr = SGDRegressor(max_iter=1000, tol=1e-3, random_state = 49)\n",
    "mlpr = MLPRegressor(random_state=49, max_iter=2000, tol=0.1, hidden_layer_sizes = (50,3))\n",
    "hgbr = HistGradientBoostingRegressor(random_state = 49)\n",
    "\n",
    "\n",
    "models = { #\"Linear Regression\": lr,\n",
    "           #\"Random Forest Regressor\": rfr,\n",
    "           \"HistGradientBoosting\": hgbr,\n",
    "           #\"SVR\": svr,\n",
    "           #\"SGDR\":sgdr,\n",
    "           #\"MLP\": mlpr,\n",
    "         }"
   ]
  },
  {
   "cell_type": "code",
   "execution_count": 209,
   "id": "0dc342e9-5261-48da-9843-81defe2f0e1a",
   "metadata": {
    "tags": []
   },
   "outputs": [],
   "source": [
    "# Target feature\n",
    "target_feature = \"price\""
   ]
  },
  {
   "cell_type": "code",
   "execution_count": 210,
   "id": "6eae688f-bdf4-4fa8-b92d-2f673337a1d6",
   "metadata": {
    "tags": []
   },
   "outputs": [],
   "source": [
    "# Will contain all the results\n",
    "all_results = {}"
   ]
  },
  {
   "cell_type": "code",
   "execution_count": 211,
   "id": "519246d7-ebdb-4942-9522-e6962ce0e857",
   "metadata": {
    "tags": []
   },
   "outputs": [],
   "source": [
    "# Support function that calculates the metrics (R2, RSME and MAE) for a model\n",
    "# Return a dictionary contaiting the results of these metrics\n",
    "def save_results(model_name, y_pred, y_test):\n",
    "    \n",
    "    # Calclulate the score for the following metrics\n",
    "    mae = mean_absolute_error(y_test, y_pred) #The lower the better\n",
    "    rmse = root_mean_squared_error(y_test, y_pred) #The lower the better\n",
    "    r2 = r2_score(y_test, y_pred) #Closer to 1 better\n",
    "    \n",
    "    # For instant analysis\n",
    "    #print(f\"{model_name}:\")\n",
    "    #print(f\"R2: {r2}\\nMAE: {mae}\\nRMSE: {rmse}\\n\")\n",
    "    \n",
    "    # Return the results for current model as a dictionary\n",
    "    return {model_name: {\"r2\": r2,\n",
    "                          \"rmse\": rmse,\n",
    "                           \"mae\": mae}}\n",
    "    \n",
    "    "
   ]
  },
  {
   "cell_type": "code",
   "execution_count": 212,
   "id": "806e7d09-a143-4b96-a03f-dbe22e721bc7",
   "metadata": {
    "tags": []
   },
   "outputs": [],
   "source": [
    "# For all the datasets we are analysing, \n",
    "# check different models and save the results in a dictionary\n",
    "\n",
    "for df_name, df in datasets.items():\n",
    "    \n",
    "    ##############\n",
    "    # Data Split # \n",
    "    ##############\n",
    "    X = df.drop(target_feature, axis = 1)\n",
    "    y = df[target_feature]\n",
    "    \n",
    "    # Train and test sets\n",
    "    X_train, X_test, y_train, y_test = train_test_split(X, y, test_size = 0.25, random_state = 70)\n",
    "    \n",
    "    \n",
    "     #########\n",
    "    # Models # \n",
    "    ##########\n",
    "    # Temporary holder of all the models for curent datataset\n",
    "    models_results = {}\n",
    "    for model_name, model in models.items():\n",
    "        # Train\n",
    "        model.fit(X_train, y_train)\n",
    "        # Predict\n",
    "        y_pred = model.predict(X_test)\n",
    "        # Results of current iteration\n",
    "        models_results.update(save_results(model_name, y_pred, y_test))\n",
    "        \n",
    "    \n",
    "    ###########\n",
    "    # Results # \n",
    "    ###########\n",
    "    all_results.update({\n",
    "                     df_name: models_results\n",
    "                   })\n",
    "\n"
   ]
  },
  {
   "cell_type": "code",
   "execution_count": 213,
   "id": "49c126b2-0167-4f07-af7f-a9d6c9bc3359",
   "metadata": {
    "tags": []
   },
   "outputs": [
    {
     "data": {
      "text/plain": [
       "Index(['accommodates', 'bathrooms', 'bedrooms', 'beds',\n",
       "       'minimum_nights_avg_ntm', 'availability_30', 'availability_60',\n",
       "       'availability_90', 'availability_365', 'number_of_reviews',\n",
       "       'number_of_reviews_ltm', 'number_of_reviews_l30d',\n",
       "       'review_scores_location', 'reviews_per_month',\n",
       "       'is_score_location_empty', 'is_entire_home', 'is_bathroom_shared',\n",
       "       'has_parking', 'has_pool', 'has_washer', 'has_dishwasher',\n",
       "       'has_ceiling_fan', 'has_long_term', 'has_bbq_grill', 'has_self_checkin',\n",
       "       'has_ac', 'has_bathtub', 'has_seaview', 'cluster_zone_beach_access',\n",
       "       'price'],\n",
       "      dtype='object')"
      ]
     },
     "execution_count": 213,
     "metadata": {},
     "output_type": "execute_result"
    }
   ],
   "source": [
    "df.columns"
   ]
  },
  {
   "cell_type": "code",
   "execution_count": 214,
   "id": "81f619cf-f6c4-4cb2-b50e-e3d3614fb8a2",
   "metadata": {
    "tags": []
   },
   "outputs": [
    {
     "data": {
      "text/html": [
       "<div>\n",
       "<style scoped>\n",
       "    .dataframe tbody tr th:only-of-type {\n",
       "        vertical-align: middle;\n",
       "    }\n",
       "\n",
       "    .dataframe tbody tr th {\n",
       "        vertical-align: top;\n",
       "    }\n",
       "\n",
       "    .dataframe thead th {\n",
       "        text-align: right;\n",
       "    }\n",
       "</style>\n",
       "<table border=\"1\" class=\"dataframe\">\n",
       "  <thead>\n",
       "    <tr style=\"text-align: right;\">\n",
       "      <th></th>\n",
       "      <th></th>\n",
       "      <th>mae</th>\n",
       "      <th>r2</th>\n",
       "      <th>rmse</th>\n",
       "    </tr>\n",
       "    <tr>\n",
       "      <th>df_encoding</th>\n",
       "      <th>models</th>\n",
       "      <th></th>\n",
       "      <th></th>\n",
       "      <th></th>\n",
       "    </tr>\n",
       "  </thead>\n",
       "  <tbody>\n",
       "    <tr>\n",
       "      <th>df_onehot</th>\n",
       "      <th>HistGradientBoosting</th>\n",
       "      <td>158.0802</td>\n",
       "      <td>0.6336</td>\n",
       "      <td>238.4229</td>\n",
       "    </tr>\n",
       "    <tr>\n",
       "      <th>df_label</th>\n",
       "      <th>HistGradientBoosting</th>\n",
       "      <td>158.5594</td>\n",
       "      <td>0.6294</td>\n",
       "      <td>239.7734</td>\n",
       "    </tr>\n",
       "    <tr>\n",
       "      <th>df_bin</th>\n",
       "      <th>HistGradientBoosting</th>\n",
       "      <td>160.3171</td>\n",
       "      <td>0.6268</td>\n",
       "      <td>240.6224</td>\n",
       "    </tr>\n",
       "  </tbody>\n",
       "</table>\n",
       "</div>"
      ],
      "text/plain": [
       "                                      mae     r2     rmse\n",
       "df_encoding models                                       \n",
       "df_onehot   HistGradientBoosting 158.0802 0.6336 238.4229\n",
       "df_label    HistGradientBoosting 158.5594 0.6294 239.7734\n",
       "df_bin      HistGradientBoosting 160.3171 0.6268 240.6224"
      ]
     },
     "execution_count": 214,
     "metadata": {},
     "output_type": "execute_result"
    }
   ],
   "source": [
    "##############\n",
    "# Comparison # \n",
    "##############\n",
    "\n",
    "index = [\"R2\", \"RSME\", \"MAE\"]\n",
    "\n",
    "df_results = pd.DataFrame()\n",
    "\n",
    "for df_name, results in all_results.items():\n",
    "    temp_df = pd.DataFrame(results).T\n",
    "    temp_df[\"df_encoding\"] = df_name\n",
    "    df_results = pd.concat([df_results, temp_df])\n",
    "    \n",
    "df_results.index.name = \"models\"\n",
    "df_results.set_index(\"df_encoding\", append = True).reorder_levels([\"df_encoding\", \"models\"]).sort_values(by=\"r2\", ascending = False)"
   ]
  },
  {
   "cell_type": "markdown",
   "id": "f8f20d40-ead7-4d4a-98b3-833feb3a8b4c",
   "metadata": {
    "tags": []
   },
   "source": [
    "import lazypredict\n",
    "\n",
    "from lazypredict.Supervised import LazyRegressor\n",
    "\n",
    "X = df_onehot.drop(target_feature, axis = 1)\n",
    "y = df_onehot[target_feature]\n",
    "X_train, X_test, y_train, y_test = train_test_split(X, y,test_size=.5,random_state =123)\n",
    "\n",
    "\n",
    "reg = LazyRegressor(verbose=0, ignore_warnings=True, custom_metric=None)\n",
    "models, predictions = reg.fit(X_train, X_test, y_train, y_test)\n",
    "\n",
    "print(models)"
   ]
  },
  {
   "cell_type": "code",
   "execution_count": null,
   "id": "8ee4b17e-41d7-42e1-9c17-66a445847466",
   "metadata": {},
   "outputs": [],
   "source": []
  }
 ],
 "metadata": {
  "kernelspec": {
   "display_name": "Python 3 (ipykernel)",
   "language": "python",
   "name": "python3"
  },
  "language_info": {
   "codemirror_mode": {
    "name": "ipython",
    "version": 3
   },
   "file_extension": ".py",
   "mimetype": "text/x-python",
   "name": "python",
   "nbconvert_exporter": "python",
   "pygments_lexer": "ipython3",
   "version": "3.11.7"
  }
 },
 "nbformat": 4,
 "nbformat_minor": 5
}
