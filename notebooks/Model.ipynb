{
 "cells": [
  {
   "cell_type": "code",
   "execution_count": 30,
   "id": "abde0594-ab96-4232-967e-5cc29c5b0dd8",
   "metadata": {
    "tags": []
   },
   "outputs": [],
   "source": [
    "import pandas as pd\n",
    "import numpy as np\n",
    "\n",
    "# Test Splitting\n",
    "from sklearn.model_selection import train_test_split\n",
    "\n",
    "# Models\n",
    "from sklearn.ensemble import RandomForestRegressor\n",
    "from sklearn.linear_model import LinearRegression\n",
    "from sklearn.svm import SVR\n",
    "from sklearn.linear_model import SGDRegressor\n",
    "from sklearn.neural_network import MLPRegressor\n",
    "from sklearn.ensemble import HistGradientBoostingRegressor\n",
    "from sklearn.model_selection import GridSearchCV\n",
    "\n",
    "# Metrics\n",
    "from sklearn.metrics import root_mean_squared_error\n",
    "from sklearn.metrics import mean_absolute_error\n",
    "from sklearn.metrics import mean_absolute_percentage_error\n",
    "from sklearn.metrics import r2_score"
   ]
  },
  {
   "cell_type": "code",
   "execution_count": 16,
   "id": "d2af7be0-ef62-4c81-9229-c2392f7bd793",
   "metadata": {
    "tags": []
   },
   "outputs": [],
   "source": [
    "pd.options.display.float_format = '{:.4f}'.format"
   ]
  },
  {
   "cell_type": "code",
   "execution_count": 17,
   "id": "b1faeaea-e388-495b-9774-a4e568f5130e",
   "metadata": {
    "tags": []
   },
   "outputs": [],
   "source": [
    "# Load all the different data sets\n",
    "df_bin = pd.read_csv(\"../data/df_bin.csv\")\n",
    "df_onehot = pd.read_csv(\"../data/df_onehot.csv\")\n",
    "df_label = pd.read_csv(\"../data/df_label.csv\")\n",
    "\n",
    "# Removing useless column\n",
    "df_bin.drop(\"Unnamed: 0\",inplace = True, axis = 1)\n",
    "df_onehot.drop(\"Unnamed: 0\",inplace = True, axis = 1)\n",
    "df_label.drop(\"Unnamed: 0\",inplace = True, axis = 1)"
   ]
  },
  {
   "cell_type": "code",
   "execution_count": 18,
   "id": "ca373f61-8cc5-4ee1-95a6-2a2292a4073d",
   "metadata": {
    "tags": []
   },
   "outputs": [],
   "source": [
    "# Dictionary with Dataset name and the corresponding dataset with different encoding for the neighbourhood\n",
    "datasets = {\"df_bin\": df_bin,\n",
    "            \"df_onehot\": df_onehot,\n",
    "            \"df_label\": df_label}"
   ]
  },
  {
   "cell_type": "code",
   "execution_count": 19,
   "id": "ad003de2-120f-4860-9bfa-3420fecd3e1c",
   "metadata": {
    "tags": []
   },
   "outputs": [],
   "source": [
    "#### Initialize models being utilised\n",
    "lr = LinearRegression()\n",
    "rfr = RandomForestRegressor(n_estimators=500, max_leaf_nodes=100, n_jobs=-1, random_state = 49)\n",
    "svr = SVR(kernel=\"poly\", degree = 4)\n",
    "sgdr = SGDRegressor(max_iter=1000, tol=1e-3, random_state = 49)\n",
    "mlpr = MLPRegressor(random_state=49, max_iter=2000, tol=0.1, hidden_layer_sizes = (50,3))\n",
    "hgbr = HistGradientBoostingRegressor(random_state = 49)\n",
    "\n",
    "models = { \"Linear Regression\": lr,\n",
    "           \"Random Forest Regressor\": rfr,\n",
    "           \"HistGradientBoosting\": hgbr,\n",
    "           \"SVR\": svr,\n",
    "           \"SGDR\":sgdr,\n",
    "           \"MLP\": mlpr,\n",
    "         }"
   ]
  },
  {
   "cell_type": "code",
   "execution_count": 20,
   "id": "0dc342e9-5261-48da-9843-81defe2f0e1a",
   "metadata": {
    "tags": []
   },
   "outputs": [],
   "source": [
    "# Target feature\n",
    "target_feature = \"price\""
   ]
  },
  {
   "cell_type": "code",
   "execution_count": 21,
   "id": "6eae688f-bdf4-4fa8-b92d-2f673337a1d6",
   "metadata": {
    "tags": []
   },
   "outputs": [],
   "source": [
    "# Will contain all the results\n",
    "all_results = {}"
   ]
  },
  {
   "cell_type": "code",
   "execution_count": 22,
   "id": "519246d7-ebdb-4942-9522-e6962ce0e857",
   "metadata": {
    "tags": []
   },
   "outputs": [],
   "source": [
    "# Support function that calculates the metrics (R2, RSME and MAE) for a model\n",
    "# Return a dictionary contaiting the results of these metrics\n",
    "def save_results(model_name, y_pred, y_test):\n",
    "    \n",
    "    # Calclulate the score for the following metrics\n",
    "    mae = mean_absolute_error(y_test, y_pred) #The lower the better\n",
    "    rmse = root_mean_squared_error(y_test, y_pred) #The lower the better\n",
    "    r2 = r2_score(y_test, y_pred) #Closer to 1 better\n",
    "    \n",
    "    # For instant analysis\n",
    "    #print(f\"{model_name}:\")\n",
    "    #print(f\"R2: {r2}\\nMAE: {mae}\\nRMSE: {rmse}\\n\")\n",
    "    \n",
    "    # Return the results for current model as a dictionary\n",
    "    return {model_name: {\"r2\": r2,\n",
    "                          \"rmse\": rmse,\n",
    "                           \"mae\": mae}}\n",
    "    \n",
    "    "
   ]
  },
  {
   "cell_type": "code",
   "execution_count": 23,
   "id": "806e7d09-a143-4b96-a03f-dbe22e721bc7",
   "metadata": {
    "tags": []
   },
   "outputs": [],
   "source": [
    "# For all the datasets we are analysing, \n",
    "# check different models and save the results in a dictionary\n",
    "\n",
    "for df_name, df in datasets.items():\n",
    "    \n",
    "    ##############\n",
    "    # Data Split # \n",
    "    ##############\n",
    "    X = df.drop(target_feature, axis = 1)\n",
    "    y = df[target_feature]\n",
    "    \n",
    "    # Train and test sets\n",
    "    X_train, X_test, y_train, y_test = train_test_split(X, y, test_size = 0.25, random_state = 70)\n",
    "    \n",
    "    \n",
    "     #########\n",
    "    # Models # \n",
    "    ##########\n",
    "    # Temporary holder of all the models for curent datataset\n",
    "    models_results = {}\n",
    "    for model_name, model in models.items():\n",
    "        # Train\n",
    "        model.fit(X_train, y_train)\n",
    "        # Predict\n",
    "        y_pred = model.predict(X_test)\n",
    "        # Results of current iteration\n",
    "        models_results.update(save_results(model_name, y_pred, y_test))\n",
    "        \n",
    "    \n",
    "    ###########\n",
    "    # Results # \n",
    "    ###########\n",
    "    all_results.update({\n",
    "                     df_name: models_results\n",
    "                   })\n",
    "\n"
   ]
  },
  {
   "cell_type": "code",
   "execution_count": 24,
   "id": "49c126b2-0167-4f07-af7f-a9d6c9bc3359",
   "metadata": {
    "tags": []
   },
   "outputs": [
    {
     "data": {
      "text/plain": [
       "Index(['accommodates', 'bathrooms', 'bedrooms', 'beds', 'price',\n",
       "       'minimum_nights_avg_ntm', 'availability_60', 'availability_90',\n",
       "       'availability_365', 'number_of_reviews_ltm', 'review_scores_value',\n",
       "       'reviews_per_month', 'Entire home/apt', 'Private room', 'Shared room',\n",
       "       'has_parking', 'has_pool', 'has_washer', 'has_dishwasher',\n",
       "       'has_ceiling_fan', 'has_long_term', 'has_bbq_grill', 'has_outdoor',\n",
       "       'has_jacuzzi', 'has_bathtub', 'has_ac', 'has_seaview',\n",
       "       'is_bathroom_shared', 'contains_lux_description', 'geo_cluster'],\n",
       "      dtype='object')"
      ]
     },
     "execution_count": 24,
     "metadata": {},
     "output_type": "execute_result"
    }
   ],
   "source": [
    "df.columns"
   ]
  },
  {
   "cell_type": "code",
   "execution_count": 25,
   "id": "81f619cf-f6c4-4cb2-b50e-e3d3614fb8a2",
   "metadata": {
    "tags": []
   },
   "outputs": [
    {
     "data": {
      "text/html": [
       "<div>\n",
       "<style scoped>\n",
       "    .dataframe tbody tr th:only-of-type {\n",
       "        vertical-align: middle;\n",
       "    }\n",
       "\n",
       "    .dataframe tbody tr th {\n",
       "        vertical-align: top;\n",
       "    }\n",
       "\n",
       "    .dataframe thead th {\n",
       "        text-align: right;\n",
       "    }\n",
       "</style>\n",
       "<table border=\"1\" class=\"dataframe\">\n",
       "  <thead>\n",
       "    <tr style=\"text-align: right;\">\n",
       "      <th></th>\n",
       "      <th></th>\n",
       "      <th>r2</th>\n",
       "      <th>rmse</th>\n",
       "      <th>mae</th>\n",
       "    </tr>\n",
       "    <tr>\n",
       "      <th>df_encoding</th>\n",
       "      <th>models</th>\n",
       "      <th></th>\n",
       "      <th></th>\n",
       "      <th></th>\n",
       "    </tr>\n",
       "  </thead>\n",
       "  <tbody>\n",
       "    <tr>\n",
       "      <th>df_onehot</th>\n",
       "      <th>HistGradientBoosting</th>\n",
       "      <td>0.6403</td>\n",
       "      <td>152.3454</td>\n",
       "      <td>110.4024</td>\n",
       "    </tr>\n",
       "    <tr>\n",
       "      <th>df_bin</th>\n",
       "      <th>HistGradientBoosting</th>\n",
       "      <td>0.6375</td>\n",
       "      <td>152.9323</td>\n",
       "      <td>111.2540</td>\n",
       "    </tr>\n",
       "    <tr>\n",
       "      <th>df_label</th>\n",
       "      <th>HistGradientBoosting</th>\n",
       "      <td>0.6362</td>\n",
       "      <td>153.2021</td>\n",
       "      <td>111.2976</td>\n",
       "    </tr>\n",
       "    <tr>\n",
       "      <th>df_onehot</th>\n",
       "      <th>MLP</th>\n",
       "      <td>0.6083</td>\n",
       "      <td>158.9740</td>\n",
       "      <td>116.9867</td>\n",
       "    </tr>\n",
       "    <tr>\n",
       "      <th>df_bin</th>\n",
       "      <th>MLP</th>\n",
       "      <td>0.5707</td>\n",
       "      <td>166.4257</td>\n",
       "      <td>124.8940</td>\n",
       "    </tr>\n",
       "    <tr>\n",
       "      <th>df_onehot</th>\n",
       "      <th>Random Forest Regressor</th>\n",
       "      <td>0.5706</td>\n",
       "      <td>166.4462</td>\n",
       "      <td>123.4229</td>\n",
       "    </tr>\n",
       "    <tr>\n",
       "      <th>df_bin</th>\n",
       "      <th>Random Forest Regressor</th>\n",
       "      <td>0.5614</td>\n",
       "      <td>168.2204</td>\n",
       "      <td>125.4848</td>\n",
       "    </tr>\n",
       "    <tr>\n",
       "      <th rowspan=\"2\" valign=\"top\">df_label</th>\n",
       "      <th>Random Forest Regressor</th>\n",
       "      <td>0.5596</td>\n",
       "      <td>168.5671</td>\n",
       "      <td>125.3190</td>\n",
       "    </tr>\n",
       "    <tr>\n",
       "      <th>MLP</th>\n",
       "      <td>0.5475</td>\n",
       "      <td>170.8618</td>\n",
       "      <td>126.5828</td>\n",
       "    </tr>\n",
       "    <tr>\n",
       "      <th rowspan=\"2\" valign=\"top\">df_onehot</th>\n",
       "      <th>Linear Regression</th>\n",
       "      <td>0.5369</td>\n",
       "      <td>172.8487</td>\n",
       "      <td>132.2036</td>\n",
       "    </tr>\n",
       "    <tr>\n",
       "      <th>SGDR</th>\n",
       "      <td>0.5365</td>\n",
       "      <td>172.9249</td>\n",
       "      <td>132.8737</td>\n",
       "    </tr>\n",
       "    <tr>\n",
       "      <th rowspan=\"3\" valign=\"top\">df_bin</th>\n",
       "      <th>Linear Regression</th>\n",
       "      <td>0.5144</td>\n",
       "      <td>176.9917</td>\n",
       "      <td>136.3501</td>\n",
       "    </tr>\n",
       "    <tr>\n",
       "      <th>SGDR</th>\n",
       "      <td>0.5131</td>\n",
       "      <td>177.2419</td>\n",
       "      <td>135.7788</td>\n",
       "    </tr>\n",
       "    <tr>\n",
       "      <th>SVR</th>\n",
       "      <td>0.4973</td>\n",
       "      <td>180.0881</td>\n",
       "      <td>127.7722</td>\n",
       "    </tr>\n",
       "    <tr>\n",
       "      <th rowspan=\"3\" valign=\"top\">df_label</th>\n",
       "      <th>Linear Regression</th>\n",
       "      <td>0.4911</td>\n",
       "      <td>181.1896</td>\n",
       "      <td>139.8089</td>\n",
       "    </tr>\n",
       "    <tr>\n",
       "      <th>SGDR</th>\n",
       "      <td>0.4905</td>\n",
       "      <td>181.2996</td>\n",
       "      <td>139.7463</td>\n",
       "    </tr>\n",
       "    <tr>\n",
       "      <th>SVR</th>\n",
       "      <td>0.4731</td>\n",
       "      <td>184.3696</td>\n",
       "      <td>131.9636</td>\n",
       "    </tr>\n",
       "    <tr>\n",
       "      <th>df_onehot</th>\n",
       "      <th>SVR</th>\n",
       "      <td>0.4640</td>\n",
       "      <td>185.9665</td>\n",
       "      <td>132.2604</td>\n",
       "    </tr>\n",
       "  </tbody>\n",
       "</table>\n",
       "</div>"
      ],
      "text/plain": [
       "                                        r2     rmse      mae\n",
       "df_encoding models                                          \n",
       "df_onehot   HistGradientBoosting    0.6403 152.3454 110.4024\n",
       "df_bin      HistGradientBoosting    0.6375 152.9323 111.2540\n",
       "df_label    HistGradientBoosting    0.6362 153.2021 111.2976\n",
       "df_onehot   MLP                     0.6083 158.9740 116.9867\n",
       "df_bin      MLP                     0.5707 166.4257 124.8940\n",
       "df_onehot   Random Forest Regressor 0.5706 166.4462 123.4229\n",
       "df_bin      Random Forest Regressor 0.5614 168.2204 125.4848\n",
       "df_label    Random Forest Regressor 0.5596 168.5671 125.3190\n",
       "            MLP                     0.5475 170.8618 126.5828\n",
       "df_onehot   Linear Regression       0.5369 172.8487 132.2036\n",
       "            SGDR                    0.5365 172.9249 132.8737\n",
       "df_bin      Linear Regression       0.5144 176.9917 136.3501\n",
       "            SGDR                    0.5131 177.2419 135.7788\n",
       "            SVR                     0.4973 180.0881 127.7722\n",
       "df_label    Linear Regression       0.4911 181.1896 139.8089\n",
       "            SGDR                    0.4905 181.2996 139.7463\n",
       "            SVR                     0.4731 184.3696 131.9636\n",
       "df_onehot   SVR                     0.4640 185.9665 132.2604"
      ]
     },
     "execution_count": 25,
     "metadata": {},
     "output_type": "execute_result"
    }
   ],
   "source": [
    "##############\n",
    "# Comparison # \n",
    "##############\n",
    "\n",
    "index = [\"R2\", \"RSME\", \"MAE\"]\n",
    "\n",
    "df_results = pd.DataFrame()\n",
    "\n",
    "for df_name, results in all_results.items():\n",
    "    temp_df = pd.DataFrame(results).T\n",
    "    temp_df[\"df_encoding\"] = df_name\n",
    "    df_results = pd.concat([df_results, temp_df])\n",
    "    \n",
    "df_results.index.name = \"models\"\n",
    "df_results.set_index(\"df_encoding\", append = True).reorder_levels([\"df_encoding\", \"models\"]).sort_values(by=\"r2\", ascending = False)"
   ]
  },
  {
   "cell_type": "markdown",
   "id": "8f9ce93f-992f-4676-90a1-2fb65b3434c7",
   "metadata": {},
   "source": [
    "### GridSearch and Cross-Validation"
   ]
  },
  {
   "cell_type": "code",
   "execution_count": 27,
   "id": "e76cdbff-6a5e-4135-beac-a93749182a48",
   "metadata": {
    "tags": []
   },
   "outputs": [],
   "source": [
    "# Split training and dataset with best dataset\n",
    "\n",
    "X = df_onehot.drop(target_feature, axis = 1)\n",
    "y = df_onehot[target_feature]\n",
    "\n",
    "X_train, X_test, y_train, y_test = train_test_split(X, y, test_size = 0.25, random_state = 70)"
   ]
  },
  {
   "cell_type": "code",
   "execution_count": null,
   "id": "3a9c96b5-20ef-4367-9883-3faf8a8c42ea",
   "metadata": {
    "tags": []
   },
   "outputs": [],
   "source": [
    "# Define GridSearch parameters for best model\n",
    "grid_param = {\n",
    "                    'loss': [\"poisson\", \"squared_error\"],\n",
    "                    'max_iter': [150,200,300],\n",
    "                    'learning_rate': [0.04, 0.05, 0.06],\n",
    "                    'max_leaf_nodes': [71,81,91],\n",
    "                    'max_features': [0.15,0.2,0.25]\n",
    "}\n",
    "\n",
    "# Best model\n",
    "model = HistGradientBoostingRegressor(random_state = 19)\n",
    "\n",
    "# Initialize GridSearch with Cross Validation\n",
    "grid_search = GridSearchCV(model, grid_param, cv = 3, scoring = 'r2')\n",
    "\n",
    "# Fit\n",
    "grid_search.fit(X_train, y_train)\n",
    "\n",
    "# Train best model with best parameters\n",
    "best_model_and_param = grid_search.best_estimator_.fit(X_train, y_train)"
   ]
  },
  {
   "cell_type": "code",
   "execution_count": 34,
   "id": "08af3178-62a6-4654-9611-b1ada50dd2ad",
   "metadata": {
    "tags": []
   },
   "outputs": [
    {
     "name": "stdout",
     "output_type": "stream",
     "text": [
      "{'learning_rate': 0.04, 'loss': 'poisson', 'max_features': 0.2, 'max_iter': 300, 'max_leaf_nodes': 81}\n"
     ]
    }
   ],
   "source": [
    "# Print best parameters\n",
    "print(grid_search.best_params_)"
   ]
  },
  {
   "cell_type": "code",
   "execution_count": 32,
   "id": "e7a10063-e347-4e93-8175-2f6edd77e7aa",
   "metadata": {},
   "outputs": [
    {
     "data": {
      "text/html": [
       "<div>\n",
       "<style scoped>\n",
       "    .dataframe tbody tr th:only-of-type {\n",
       "        vertical-align: middle;\n",
       "    }\n",
       "\n",
       "    .dataframe tbody tr th {\n",
       "        vertical-align: top;\n",
       "    }\n",
       "\n",
       "    .dataframe thead th {\n",
       "        text-align: right;\n",
       "    }\n",
       "</style>\n",
       "<table border=\"1\" class=\"dataframe\">\n",
       "  <thead>\n",
       "    <tr style=\"text-align: right;\">\n",
       "      <th></th>\n",
       "      <th>Results</th>\n",
       "    </tr>\n",
       "  </thead>\n",
       "  <tbody>\n",
       "    <tr>\n",
       "      <th>R2</th>\n",
       "      <td>0.6507</td>\n",
       "    </tr>\n",
       "    <tr>\n",
       "      <th>MAPE</th>\n",
       "      <td>0.3579</td>\n",
       "    </tr>\n",
       "    <tr>\n",
       "      <th>MAE</th>\n",
       "      <td>107.9837</td>\n",
       "    </tr>\n",
       "    <tr>\n",
       "      <th>RMSE</th>\n",
       "      <td>150.1190</td>\n",
       "    </tr>\n",
       "  </tbody>\n",
       "</table>\n",
       "</div>"
      ],
      "text/plain": [
       "      Results\n",
       "R2     0.6507\n",
       "MAPE   0.3579\n",
       "MAE  107.9837\n",
       "RMSE 150.1190"
      ]
     },
     "execution_count": 32,
     "metadata": {},
     "output_type": "execute_result"
    }
   ],
   "source": [
    "# Predict with the best model and best parameters\n",
    "y_pred = best_model_and_param.predict(X_test)\n",
    "\n",
    "# Evaluate\n",
    "# Calclulate the score for the following metrics\n",
    "mae = mean_absolute_error(y_test, y_pred)\n",
    "rmse = root_mean_squared_error(y_test, y_pred)\n",
    "r2 = r2_score(y_test, y_pred)\n",
    "mape = mean_absolute_percentage_error(y_test, y_pred)\n",
    "\n",
    "metrics = [r2, mape, mae, rmse]\n",
    "results = pd.DataFrame(metrics, index = [\"R2\", \"MAPE\", \"MAE\", \"RMSE\"], columns = [\"Results\"])\n",
    "\n",
    "results"
   ]
  }
 ],
 "metadata": {
  "kernelspec": {
   "display_name": "Python 3 (ipykernel)",
   "language": "python",
   "name": "python3"
  },
  "language_info": {
   "codemirror_mode": {
    "name": "ipython",
    "version": 3
   },
   "file_extension": ".py",
   "mimetype": "text/x-python",
   "name": "python",
   "nbconvert_exporter": "python",
   "pygments_lexer": "ipython3",
   "version": "3.11.7"
  }
 },
 "nbformat": 4,
 "nbformat_minor": 5
}
